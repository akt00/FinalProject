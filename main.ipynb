{
 "cells": [
  {
   "cell_type": "markdown",
   "id": "b93ffe86-54fb-4ae2-9063-c5aeb167aab7",
   "metadata": {},
   "source": [
    "# Machine Learning on a Public Dataset\n",
    "\n",
    "Train and Evaluate the machine learning models\n",
    "\n",
    "## Importing the required libraries"
   ]
  },
  {
   "cell_type": "code",
   "execution_count": 1,
   "id": "1b46a0c8-faed-4682-9c88-6c5f9f04279e",
   "metadata": {},
   "outputs": [
    {
     "name": "stdout",
     "output_type": "stream",
     "text": [
      "WARNING:tensorflow:From C:\\Users\\escin\\AppData\\Roaming\\Python\\Python311\\site-packages\\keras\\src\\losses.py:2976: The name tf.losses.sparse_softmax_cross_entropy is deprecated. Please use tf.compat.v1.losses.sparse_softmax_cross_entropy instead.\n",
      "\n"
     ]
    }
   ],
   "source": [
    "import cv2\n",
    "import matplotlib.pyplot as plt\n",
    "import torch\n",
    "from torch.utils.data import DataLoader\n",
    "from torch.utils.tensorboard import SummaryWriter\n",
    "from torchvision import transforms\n",
    "# local modules\n",
    "from src.data_pipeline import BrainDataset\n",
    "from src.losses import FocalDiceLoss\n",
    "from src.models import UNet\n",
    "from src.utils import train_one_epoch, evaluate, export2onnx"
   ]
  },
  {
   "cell_type": "markdown",
   "id": "b2cefc11",
   "metadata": {},
   "source": [
    "## Visualizing CossineAnnealing learning rate scheduler"
   ]
  },
  {
   "cell_type": "code",
   "execution_count": 2,
   "id": "8348d71b",
   "metadata": {},
   "outputs": [
    {
     "data": {
      "image/png": "[encoded data removed]",
      "text/plain": [
       "<Figure size 640x480 with 1 Axes>"
      ]
     },
     "metadata": {},
     "output_type": "display_data"
    }
   ],
   "source": [
    "dummy_model = torch.nn.Sequential(torch.nn.Linear(32, 32))\n",
    "dummy_opt = torch.optim.RAdam(dummy_model.parameters())\n",
    "# dummy_scheduler = WarmupCosineAnnealingLR(optimzer=dummy_opt, warmup_epoch=3, epochs=20, min_lr=1e-4)\n",
    "dummy_scheduler = torch.optim.lr_scheduler.CosineAnnealingLR(dummy_opt, T_max=30)\n",
    "\n",
    "lrs = []\n",
    "for ep in range(30):\n",
    "    lrs.append(dummy_scheduler.get_last_lr())\n",
    "    dummy_opt.step()\n",
    "    dummy_scheduler.step()\n",
    "\n",
    "plt.plot(lrs)\n",
    "plt.show()"
   ]
  },
  {
   "cell_type": "markdown",
   "id": "8edb74e4",
   "metadata": {},
   "source": [
    "## Building the data pipeline"
   ]
  },
  {
   "cell_type": "code",
   "execution_count": 3,
   "id": "53d4a3f6",
   "metadata": {},
   "outputs": [],
   "source": [
    "class RescaleMask:\n",
    "    def __call__(self, img: torch.Tensor):\n",
    "        assert img.min() >=0 and img.max() <= 1\n",
    "        return img.clamp(min=0, max=1)\n",
    "\n",
    "\n",
    "mask_transform = transforms.Compose([\n",
    "    transforms.ToTensor(),\n",
    "    RescaleMask()\n",
    "])\n",
    "\n",
    "train_loader = BrainDataset(True, transforms.ToTensor(), mask_transform)\n",
    "train_loader = DataLoader(train_loader, batch_size=64, shuffle=True)\n",
    "test_loader = BrainDataset(False, transforms.ToTensor(), mask_transform)\n",
    "test_loader = DataLoader(test_loader, batch_size=64, shuffle=False)"
   ]
  },
  {
   "cell_type": "markdown",
   "id": "3aac7084",
   "metadata": {},
   "source": [
    "## Building and Training U-Net"
   ]
  },
  {
   "cell_type": "code",
   "execution_count": 4,
   "id": "546802cf",
   "metadata": {},
   "outputs": [
    {
     "name": "stdout",
     "output_type": "stream",
     "text": [
      "--------- Epoch 1 ---------\n",
      "Current learning rate: 0.01000\n"
     ]
    },
    {
     "name": "stderr",
     "output_type": "stream",
     "text": [
      "51it [00:54,  1.07s/it]\n"
     ]
    },
    {
     "name": "stdout",
     "output_type": "stream",
     "text": [
      "[Train]  Loss: 0.9972\n",
      "[Test]  Loss: 0.9538 mIoU: 0.6400 Precision: 0.9135 Recall: 0.7198 F1: 0.6656\n",
      "--------- Epoch 2 ---------\n",
      "Current learning rate: 0.00994\n"
     ]
    },
    {
     "name": "stderr",
     "output_type": "stream",
     "text": [
      "16it [00:17,  1.07s/it]"
     ]
    }
   ],
   "source": [
    "unet_model = UNet(in_channels=3, features=32, attention_gate=True, dcn=True)\n",
    "# import segmentation_models_pytorch as smp\n",
    "#model = smp.DeepLabV3Plus(encoder_name='resnet18', activation='sigmoid')\n",
    "\n",
    "loss = FocalDiceLoss()\n",
    "optimizer = torch.optim.SGD(unet_model.parameters(), lr=1e-2, momentum=.9, nesterov=True)\n",
    "scheduler = torch.optim.lr_scheduler.CosineAnnealingLR(optimizer, T_max=20)\n",
    "\n",
    "min_test_loss = 1e10\n",
    "early_stopping_counter, patience = 0, 4\n",
    "writer = SummaryWriter() # logs evaluation metrics\n",
    "# train and evaluate\n",
    "for epoch in range(20):\n",
    "    print(f'--------- Epoch {epoch + 1} ---------')\n",
    "    print(f'Current learning rate: {scheduler.get_last_lr()[0]:.5f}')\n",
    "    # train for one epoch\n",
    "    train_loss = train_one_epoch(unet_model, loss, optimizer, train_loader)\n",
    "    scheduler.step()\n",
    "    writer.add_scalar('Loss/Train', train_loss, epoch)\n",
    "    # evaluate the model\n",
    "    (test_loss, test_miou, test_precision, test_sensitivity, test_f1) = evaluate(unet_model, loss, test_loader)\n",
    "    writer.add_scalar('Loss/Test', test_loss, epoch)\n",
    "    writer.add_scalar('mIoU/Test', test_miou, epoch)\n",
    "    writer.add_scalar('Precision/Test', test_precision, epoch)\n",
    "    writer.add_scalar('Sensitivity/Test', test_sensitivity, epoch)\n",
    "    writer.add_scalar(\"F1 Score/Test\", test_f1, epoch)\n",
    "    # save the best model\n",
    "    if test_loss < min_test_loss:\n",
    "        min_test_loss = test_loss\n",
    "        early_stopping_counter = 0\n",
    "        torch.save(unet_model, 'models/model.pth')\n",
    "    else:\n",
    "        early_stopping_counter += 1\n",
    "        # early stopping\n",
    "        if early_stopping_counter > patience:\n",
    "            break"
   ]
  },
  {
   "cell_type": "markdown",
   "id": "eeba4246",
   "metadata": {},
   "source": [
    "## Visual validation of UNet model"
   ]
  },
  {
   "cell_type": "code",
   "execution_count": null,
   "id": "caef2319-e55a-4223-b1a9-3e9eb68838d1",
   "metadata": {},
   "outputs": [],
   "source": [
    "img = cv2.imread('dataset/TCGA_CS_4941_19960909/TCGA_CS_4941_19960909_15.tif')\n",
    "transform = transforms.ToTensor()\n",
    "img = transform(img)\n",
    "img = img.unsqueeze(0)\n",
    "assert img.shape == (1, 3, 256, 256)\n",
    "\n",
    "model = torch.load('models/model.pth')\n",
    "model.eval()\n",
    "device = torch.device('cuda')\n",
    "pred = (model(img.to(device)) > 0.5).float()\n",
    "assert pred.shape == (1, 1, 256, 256)\n",
    "pred = pred.squeeze(0)\n",
    "assert pred.shape == (1, 256, 256)\n",
    "pred = pred.squeeze()\n",
    "assert pred.shape == (256, 256)\n",
    "\n",
    "fig, (ax1, ax2) = plt.subplots(1, 2, figsize=(10, 5))\n",
    "pred = pred.detach().cpu().numpy()\n",
    "assert pred.min() >= 0 and pred.max() <= 1\n",
    "img = cv2.imread('dataset/TCGA_CS_4941_19960909/TCGA_CS_4941_19960909_15.tif')\n",
    "ax1.imshow(img)\n",
    "ax1.axis('off')\n",
    "ax2.imshow(pred, cmap='gray')\n",
    "ax2.axis('off')\n",
    "plt.show()"
   ]
  },
  {
   "cell_type": "markdown",
   "id": "10825655",
   "metadata": {},
   "source": [
    "# Exporting the trained models to ONNX"
   ]
  },
  {
   "cell_type": "code",
   "execution_count": null,
   "id": "4948bddc-92bb-4a01-8e1d-edb95f89bd7a",
   "metadata": {},
   "outputs": [],
   "source": [
    "export2onnx(\n",
    "    model=model,\n",
    "    model_name='models/unet.onnx',\n",
    "    input_shape=(1, 3, 256, 256)\n",
    ")"
   ]
  }
 ],
 "metadata": {
  "kernelspec": {
   "display_name": "Python 3 (ipykernel)",
   "language": "python",
   "name": "python3"
  },
  "language_info": {
   "codemirror_mode": {
    "name": "ipython",
    "version": 3
   },
   "file_extension": ".py",
   "mimetype": "text/x-python",
   "name": "python",
   "nbconvert_exporter": "python",
   "pygments_lexer": "ipython3",
   "version": "3.11.7"
  }
 },
 "nbformat": 4,
 "nbformat_minor": 5
}
